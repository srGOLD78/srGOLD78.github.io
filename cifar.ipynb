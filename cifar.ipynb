{
  "cells": [
    {
      "cell_type": "markdown",
      "metadata": {
        "id": "view-in-github",
        "colab_type": "text"
      },
      "source": [
        "<a href=\"https://colab.research.google.com/github/srGOLD78/srGOLD78.github.io/blob/main/cifar.ipynb\" target=\"_parent\"><img src=\"https://colab.research.google.com/assets/colab-badge.svg\" alt=\"Open In Colab\"/></a>"
      ]
    },
    {
      "cell_type": "code",
      "execution_count": 24,
      "id": "ad4d9127",
      "metadata": {
        "_cell_guid": "b1076dfc-b9ad-4769-8c92-a6c4dae69d19",
        "_uuid": "8f2839f25d086af736a60e9eeb907d3b93b6e0e5",
        "execution": {
          "iopub.execute_input": "2024-04-04T22:56:04.733883Z",
          "iopub.status.busy": "2024-04-04T22:56:04.733471Z",
          "iopub.status.idle": "2024-04-04T22:56:14.130006Z",
          "shell.execute_reply": "2024-04-04T22:56:14.128766Z"
        },
        "papermill": {
          "duration": 9.407396,
          "end_time": "2024-04-04T22:56:14.133132",
          "exception": false,
          "start_time": "2024-04-04T22:56:04.725736",
          "status": "completed"
        },
        "tags": [],
        "id": "ad4d9127"
      },
      "outputs": [],
      "source": [
        "\n",
        "import torch\n",
        "import torchvision\n",
        "import torchvision.transforms as transforms\n",
        "import torch.nn as nn\n",
        "from torch.utils.data import Dataset, DataLoader\n",
        "from torchvision import datasets\n",
        "\n",
        "import numpy as np\n",
        "import matplotlib.pyplot as plt\n",
        "\n",
        "from tqdm.auto import tqdm\n",
        "from sklearn.model_selection import train_test_split\n",
        "import pandas as pd\n",
        "\n",
        "import seaborn\n",
        "seaborn.set(palette='viridis')"
      ]
    },
    {
      "cell_type": "code",
      "execution_count": 3,
      "id": "176f1634",
      "metadata": {
        "execution": {
          "iopub.execute_input": "2024-04-04T22:56:14.152966Z",
          "iopub.status.busy": "2024-04-04T22:56:14.151806Z",
          "iopub.status.idle": "2024-04-04T22:56:23.850402Z",
          "shell.execute_reply": "2024-04-04T22:56:23.849493Z"
        },
        "papermill": {
          "duration": 9.71296,
          "end_time": "2024-04-04T22:56:23.852937",
          "exception": false,
          "start_time": "2024-04-04T22:56:14.139977",
          "status": "completed"
        },
        "tags": [],
        "id": "176f1634",
        "colab": {
          "base_uri": "https://localhost:8080/"
        },
        "outputId": "849e34b6-828e-4c3e-fcac-e947d0852bef"
      },
      "outputs": [
        {
          "output_type": "stream",
          "name": "stdout",
          "text": [
            "Downloading https://www.cs.toronto.edu/~kriz/cifar-10-python.tar.gz to ./data/cifar-10-python.tar.gz\n"
          ]
        },
        {
          "output_type": "stream",
          "name": "stderr",
          "text": [
            "100%|██████████| 170498071/170498071 [00:04<00:00, 38384856.59it/s]\n"
          ]
        },
        {
          "output_type": "stream",
          "name": "stdout",
          "text": [
            "Extracting ./data/cifar-10-python.tar.gz to ./data\n",
            "Files already downloaded and verified\n"
          ]
        }
      ],
      "source": [
        "batch_size = 16\n",
        "\n",
        "transform = transforms.Compose(\n",
        "    [transforms.ToTensor()])\n",
        "\n",
        "\n",
        "train_data = datasets.CIFAR10(root='./data', train=True,\n",
        "                        download=True, transform=transform)\n",
        "\n",
        "test_data = datasets.CIFAR10(root='./data', train=False,\n",
        "                        download=True, transform=transform)\n",
        "\n",
        "train_load = DataLoader(train_data, batch_size=batch_size,\n",
        "                        shuffle=True, num_workers=2 , drop_last=True)\n",
        "\n",
        "test_load = DataLoader(test_data, batch_size=batch_size,\n",
        "                        shuffle=False, num_workers=2 ,drop_last=True)"
      ]
    },
    {
      "cell_type": "code",
      "execution_count": 4,
      "id": "5b8e8344",
      "metadata": {
        "execution": {
          "iopub.execute_input": "2024-04-04T22:56:23.873823Z",
          "iopub.status.busy": "2024-04-04T22:56:23.873453Z",
          "iopub.status.idle": "2024-04-04T22:56:23.886616Z",
          "shell.execute_reply": "2024-04-04T22:56:23.885532Z"
        },
        "papermill": {
          "duration": 0.026001,
          "end_time": "2024-04-04T22:56:23.888681",
          "exception": false,
          "start_time": "2024-04-04T22:56:23.862680",
          "status": "completed"
        },
        "tags": [],
        "id": "5b8e8344"
      },
      "outputs": [],
      "source": [
        "class CNN(nn.Module):\n",
        "    def __init__(self):\n",
        "        super(CNN,self).__init__()\n",
        "\n",
        "        self.layer1 = nn.Sequential(\n",
        "            nn.Conv2d(3, 32, kernel_size = 3 , padding = 1),\n",
        "            nn.BatchNorm2d(32),\n",
        "            nn.ReLU(),\n",
        "            nn.MaxPool2d(2,2)\n",
        "        )\n",
        "        self.layer2 = nn.Sequential(\n",
        "            nn.Conv2d(32, 64, kernel_size = 3 ,padding = 1),\n",
        "            nn.BatchNorm2d(64),\n",
        "            nn.ReLU(),\n",
        "            nn.MaxPool2d(2,2)\n",
        "        )\n",
        "\n",
        "        self.layer3 = nn.Sequential(\n",
        "            nn.Conv2d(64, 128, kernel_size = 3,padding = 1),\n",
        "            nn.BatchNorm2d(128),\n",
        "            nn.ReLU(),\n",
        "        )\n",
        "\n",
        "        self.layer4 = nn.Sequential(\n",
        "            nn.Conv2d(128, 256, kernel_size = 3),\n",
        "            nn.BatchNorm2d(256),\n",
        "            nn.ReLU(),\n",
        "        )\n",
        "\n",
        "        self.linear1 = nn.Linear(256*6*6 , 256*6)\n",
        "        self.fn_ac = nn.ReLU6()\n",
        "        self.linear2 = nn.Linear(256*6 , 256*6)\n",
        "        self.linear3 = nn.Linear(256*6 , 10)\n",
        "        self.dr_out = nn.Dropout(0.3)\n",
        "\n",
        "\n",
        "\n",
        "\n",
        "    def forward(self, x):\n",
        "        out =  self.layer1(x)\n",
        "        out =  self.layer2(out)\n",
        "        out =  self.layer3(out)\n",
        "        out =  self.layer4(out)\n",
        "        #print(out.shape)\n",
        "\n",
        "        out = out.reshape(out.size(0), -1)\n",
        "\n",
        "        out =  self.linear1(out)\n",
        "        out =  self.dr_out(out)\n",
        "        out =  self.fn_ac(out)\n",
        "\n",
        "        out =  self.linear2(out)\n",
        "        out =  self.dr_out(out)\n",
        "        out =  self.fn_ac(out)\n",
        "\n",
        "        out =  self.linear3(out)\n",
        "\n",
        "        return out"
      ]
    },
    {
      "cell_type": "code",
      "execution_count": 5,
      "id": "fe6a0bf7",
      "metadata": {
        "execution": {
          "iopub.execute_input": "2024-04-04T22:56:23.910223Z",
          "iopub.status.busy": "2024-04-04T22:56:23.909843Z",
          "iopub.status.idle": "2024-04-04T22:56:23.976833Z",
          "shell.execute_reply": "2024-04-04T22:56:23.975647Z"
        },
        "papermill": {
          "duration": 0.080444,
          "end_time": "2024-04-04T22:56:23.979203",
          "exception": false,
          "start_time": "2024-04-04T22:56:23.898759",
          "status": "completed"
        },
        "tags": [],
        "id": "fe6a0bf7",
        "colab": {
          "base_uri": "https://localhost:8080/",
          "height": 35
        },
        "outputId": "e200aaf9-6960-45f7-cea6-3751f1a8c223"
      },
      "outputs": [
        {
          "output_type": "execute_result",
          "data": {
            "text/plain": [
              "'cuda'"
            ],
            "application/vnd.google.colaboratory.intrinsic+json": {
              "type": "string"
            }
          },
          "metadata": {},
          "execution_count": 5
        }
      ],
      "source": [
        "device = \"cuda\" if torch.cuda.is_available() else \"cpu\"\n",
        "device"
      ]
    },
    {
      "cell_type": "code",
      "execution_count": 6,
      "id": "13e57d9a",
      "metadata": {
        "execution": {
          "iopub.execute_input": "2024-04-04T22:56:24.007859Z",
          "iopub.status.busy": "2024-04-04T22:56:24.007392Z",
          "iopub.status.idle": "2024-04-04T22:56:24.401524Z",
          "shell.execute_reply": "2024-04-04T22:56:24.400567Z"
        },
        "papermill": {
          "duration": 0.411006,
          "end_time": "2024-04-04T22:56:24.404527",
          "exception": false,
          "start_time": "2024-04-04T22:56:23.993521",
          "status": "completed"
        },
        "tags": [],
        "id": "13e57d9a"
      },
      "outputs": [],
      "source": [
        "lr = 0.0003\n",
        "num_epochs = 10\n",
        "model = CNN().to(device)\n",
        "loss_fn = nn.CrossEntropyLoss()\n",
        "optimizer = torch.optim.Adam( model.parameters() , lr = lr)"
      ]
    },
    {
      "cell_type": "code",
      "execution_count": 7,
      "id": "f97a9644",
      "metadata": {
        "execution": {
          "iopub.execute_input": "2024-04-04T22:56:24.428478Z",
          "iopub.status.busy": "2024-04-04T22:56:24.428123Z",
          "iopub.status.idle": "2024-04-04T22:56:24.433061Z",
          "shell.execute_reply": "2024-04-04T22:56:24.431984Z"
        },
        "papermill": {
          "duration": 0.019112,
          "end_time": "2024-04-04T22:56:24.435258",
          "exception": false,
          "start_time": "2024-04-04T22:56:24.416146",
          "status": "completed"
        },
        "tags": [],
        "id": "f97a9644"
      },
      "outputs": [],
      "source": [
        "loss_list = []\n",
        "acc_list = []"
      ]
    },
    {
      "cell_type": "code",
      "execution_count": 8,
      "id": "edea2a63",
      "metadata": {
        "execution": {
          "iopub.execute_input": "2024-04-04T22:56:24.457891Z",
          "iopub.status.busy": "2024-04-04T22:56:24.457515Z",
          "iopub.status.idle": "2024-04-04T23:07:24.613715Z",
          "shell.execute_reply": "2024-04-04T23:07:24.612500Z"
        },
        "papermill": {
          "duration": 660.181786,
          "end_time": "2024-04-04T23:07:24.626884",
          "exception": false,
          "start_time": "2024-04-04T22:56:24.445098",
          "status": "completed"
        },
        "tags": [],
        "id": "edea2a63",
        "colab": {
          "base_uri": "https://localhost:8080/"
        },
        "outputId": "564fb5fc-f283-4982-fe81-305865c4f59d"
      },
      "outputs": [
        {
          "output_type": "stream",
          "name": "stderr",
          "text": [
            "/usr/lib/python3.10/multiprocessing/popen_fork.py:66: RuntimeWarning: os.fork() was called. os.fork() is incompatible with multithreaded code, and JAX is multithreaded, so this will likely lead to a deadlock.\n",
            "  self.pid = os.fork()\n"
          ]
        },
        {
          "output_type": "stream",
          "name": "stdout",
          "text": [
            " эпоха 1 loss_train:1.3164675273132325 acc_train = 0.52482\n",
            " эпоха 2 loss_train:0.9694195800352097 acc_train = 0.6614\n",
            " эпоха 3 loss_train:0.8488239466762543 acc_train = 0.70436\n",
            " эпоха 4 loss_train:0.7694823172664642 acc_train = 0.73364\n",
            " эпоха 5 loss_train:0.7040549424743653 acc_train = 0.7566\n",
            " эпоха 6 loss_train:0.6449145858287811 acc_train = 0.77798\n",
            " эпоха 7 loss_train:0.5935473906946183 acc_train = 0.79696\n",
            " эпоха 8 loss_train:0.5410110360836983 acc_train = 0.81448\n",
            " эпоха 9 loss_train:0.4942369853770733 acc_train = 0.83122\n",
            " эпоха 10 loss_train:0.45521016822874544 acc_train = 0.842\n"
          ]
        }
      ],
      "source": [
        "for epoch in range(num_epochs):\n",
        "    model.train()\n",
        "    loss_epoch_train = []\n",
        "    acc_epoch_train = []\n",
        "\n",
        "    for images, labels in train_load:\n",
        "\n",
        "        images = images.to(device)\n",
        "        labels = labels.to(device)\n",
        "\n",
        "\n",
        "        # Forward pass\n",
        "        outputs = model(images)\n",
        "        loss = loss_fn( outputs, labels )\n",
        "\n",
        "        acc_epoch_train.append((torch.as_tensor(([i.argmax() for i in outputs])).to(device) == labels).int().sum().item()/len(labels))\n",
        "        # Backward and optimize\n",
        "        optimizer.zero_grad()\n",
        "        loss.backward()\n",
        "        optimizer.step()\n",
        "\n",
        "        loss_epoch_train.append(loss.item())\n",
        "\n",
        "    loss_list.append(sum(loss_epoch_train)/len(loss_epoch_train))\n",
        "    acc_list.append(sum(acc_epoch_train)/len(acc_epoch_train))\n",
        "\n",
        "    print(f\" эпоха {epoch+1} loss_train:{loss_list[epoch]} acc_train = {acc_list[epoch]}\")"
      ]
    },
    {
      "cell_type": "code",
      "execution_count": 9,
      "id": "aca93c81",
      "metadata": {
        "execution": {
          "iopub.execute_input": "2024-04-04T23:07:25.715251Z",
          "iopub.status.busy": "2024-04-04T23:07:25.714871Z",
          "iopub.status.idle": "2024-04-04T23:07:25.728538Z",
          "shell.execute_reply": "2024-04-04T23:07:25.727622Z"
        },
        "papermill": {
          "duration": 0.030936,
          "end_time": "2024-04-04T23:07:25.730828",
          "exception": false,
          "start_time": "2024-04-04T23:07:25.699892",
          "status": "completed"
        },
        "tags": [],
        "id": "aca93c81"
      },
      "outputs": [],
      "source": [
        "class AE(nn.Module):\n",
        "    def __init__(self , hiden_dim):\n",
        "        super(AE,self).__init__()\n",
        "        self.encoder = nn.Sequential(\n",
        "\n",
        "            nn.Conv2d(in_channels=3,out_channels=32,kernel_size = 11),\n",
        "            nn.ReLU(inplace=True),\n",
        "\n",
        "\n",
        "            nn.Conv2d(in_channels=32,out_channels=64,kernel_size = 7),\n",
        "            nn.ReLU(inplace=True),\n",
        "\n",
        "            nn.Conv2d(in_channels=64,out_channels=128,kernel_size = 5),\n",
        "            nn.ReLU(inplace=True),\n",
        "\n",
        "            nn.Conv2d(in_channels=128,out_channels=256,kernel_size = 3),\n",
        "            nn.ReLU(inplace=True),\n",
        "\n",
        "            nn.Conv2d(in_channels=256,out_channels=256,kernel_size = 3),\n",
        "            nn.ReLU(inplace=True),\n",
        "\n",
        "            nn.Conv2d(in_channels=256,out_channels=256,kernel_size = 3),\n",
        "            nn.ReLU(inplace=True),\n",
        "\n",
        "\n",
        "            )\n",
        "\n",
        "\n",
        "        self.decoder = nn.Sequential(\n",
        "\n",
        "\n",
        "            nn.ConvTranspose2d(in_channels=256,out_channels=256,kernel_size = 3),\n",
        "            nn.ReLU(inplace=True),\n",
        "\n",
        "            nn.ConvTranspose2d(in_channels=256,out_channels=256,kernel_size = 3),\n",
        "            nn.ReLU(inplace=True),\n",
        "\n",
        "\n",
        "            nn.ConvTranspose2d(in_channels=256 , out_channels=128,kernel_size=3,),\n",
        "            nn.ReLU(inplace=True),\n",
        "\n",
        "            nn.ConvTranspose2d(in_channels=128 , out_channels=64,kernel_size=5,),\n",
        "            nn.ReLU(inplace=True),\n",
        "\n",
        "\n",
        "            nn.ConvTranspose2d(in_channels=64,out_channels=32,kernel_size=7),\n",
        "            nn.ReLU(inplace=True),\n",
        "\n",
        "\n",
        "            nn.ConvTranspose2d(in_channels=32,out_channels=3,kernel_size=11),\n",
        "            nn.ReLU(inplace=True),\n",
        "\n",
        "\n",
        "        )\n",
        "\n",
        "        self.sig = nn.Sigmoid()\n",
        "\n",
        "\n",
        "    def forward(self, x ):\n",
        "        out =  self.encoder(x)\n",
        "        out =  self.sig(self.decoder(out))\n",
        "        return out\n"
      ]
    },
    {
      "cell_type": "code",
      "execution_count": 13,
      "id": "a54c1724",
      "metadata": {
        "execution": {
          "iopub.execute_input": "2024-04-04T23:07:25.760628Z",
          "iopub.status.busy": "2024-04-04T23:07:25.760290Z",
          "iopub.status.idle": "2024-04-04T23:07:25.810570Z",
          "shell.execute_reply": "2024-04-04T23:07:25.809604Z"
        },
        "papermill": {
          "duration": 0.067766,
          "end_time": "2024-04-04T23:07:25.813423",
          "exception": false,
          "start_time": "2024-04-04T23:07:25.745657",
          "status": "completed"
        },
        "tags": [],
        "id": "a54c1724"
      },
      "outputs": [],
      "source": [
        "lr = 0.0003\n",
        "num_epochs = 50\n",
        "model = AE(128).to(device)\n",
        "loss_fn = nn.BCELoss()\n",
        "optimizer = torch.optim.Adam( model.parameters() , lr = lr)"
      ]
    },
    {
      "cell_type": "code",
      "execution_count": 14,
      "id": "af142397",
      "metadata": {
        "execution": {
          "iopub.execute_input": "2024-04-04T23:07:25.842257Z",
          "iopub.status.busy": "2024-04-04T23:07:25.841896Z",
          "iopub.status.idle": "2024-04-04T23:07:25.846235Z",
          "shell.execute_reply": "2024-04-04T23:07:25.845305Z"
        },
        "papermill": {
          "duration": 0.021496,
          "end_time": "2024-04-04T23:07:25.848390",
          "exception": false,
          "start_time": "2024-04-04T23:07:25.826894",
          "status": "completed"
        },
        "tags": [],
        "id": "af142397"
      },
      "outputs": [],
      "source": [
        "loss_train_list = []\n"
      ]
    },
    {
      "cell_type": "code",
      "execution_count": 15,
      "id": "1c5cfa30",
      "metadata": {
        "execution": {
          "iopub.execute_input": "2024-04-04T23:07:25.876903Z",
          "iopub.status.busy": "2024-04-04T23:07:25.876487Z",
          "iopub.status.idle": "2024-04-05T00:00:10.544538Z",
          "shell.execute_reply": "2024-04-05T00:00:10.543465Z"
        },
        "papermill": {
          "duration": 3164.705256,
          "end_time": "2024-04-05T00:00:10.567216",
          "exception": false,
          "start_time": "2024-04-04T23:07:25.861960",
          "status": "completed"
        },
        "tags": [],
        "id": "1c5cfa30",
        "colab": {
          "base_uri": "https://localhost:8080/"
        },
        "outputId": "63339975-f211-4fdd-ba4a-957ffe91f860"
      },
      "outputs": [
        {
          "output_type": "stream",
          "name": "stdout",
          "text": [
            " эпоха 1 loss_train:0.661435972518921\n",
            " эпоха 2 loss_train:0.6479613914680481\n",
            " эпоха 3 loss_train:0.6436425975418091\n",
            " эпоха 4 loss_train:0.6415174585914611\n",
            " эпоха 5 loss_train:0.6399562067985535\n",
            " эпоха 6 loss_train:0.6388085243034363\n",
            " эпоха 7 loss_train:0.6379039890861511\n",
            " эпоха 8 loss_train:0.6371355284118653\n",
            " эпоха 9 loss_train:0.6364379404640198\n",
            " эпоха 10 loss_train:0.6358463436508178\n",
            " эпоха 11 loss_train:0.6354168155288696\n",
            " эпоха 12 loss_train:0.6348411381530762\n",
            " эпоха 13 loss_train:0.6345390292739869\n",
            " эпоха 14 loss_train:0.6341645670318603\n",
            " эпоха 15 loss_train:0.6338838886451721\n",
            " эпоха 16 loss_train:0.6335316844940185\n",
            " эпоха 17 loss_train:0.6332842107582092\n",
            " эпоха 18 loss_train:0.6331170902061463\n",
            " эпоха 19 loss_train:0.6328303189277649\n",
            " эпоха 20 loss_train:0.6326395535850525\n",
            " эпоха 21 loss_train:0.6323656566429138\n",
            " эпоха 22 loss_train:0.6323432288360595\n",
            " эпоха 23 loss_train:0.6321005434799194\n",
            " эпоха 24 loss_train:0.6319970669555665\n",
            " эпоха 25 loss_train:0.6317698487472534\n",
            " эпоха 26 loss_train:0.631747403717041\n",
            " эпоха 27 loss_train:0.6315738920593261\n",
            " эпоха 28 loss_train:0.6313644838142395\n",
            " эпоха 29 loss_train:0.6312292686080933\n",
            " эпоха 30 loss_train:0.6311332095336915\n",
            " эпоха 31 loss_train:0.6309499880218505\n",
            " эпоха 32 loss_train:0.6308805953598022\n",
            " эпоха 33 loss_train:0.6308157144737244\n",
            " эпоха 34 loss_train:0.6306819193840026\n",
            " эпоха 35 loss_train:0.6306309078216553\n",
            " эпоха 36 loss_train:0.630554661026001\n",
            " эпоха 37 loss_train:0.6304623215293884\n",
            " эпоха 38 loss_train:0.6304019719314575\n",
            " эпоха 39 loss_train:0.6303200964164734\n",
            " эпоха 40 loss_train:0.6303097260856628\n",
            " эпоха 41 loss_train:0.630248326034546\n",
            " эпоха 42 loss_train:0.6301912073707581\n",
            " эпоха 43 loss_train:0.6301032679367066\n",
            " эпоха 44 loss_train:0.6301075723648071\n",
            " эпоха 45 loss_train:0.6300482362556458\n",
            " эпоха 46 loss_train:0.6299406000709533\n",
            " эпоха 47 loss_train:0.6299464897537231\n",
            " эпоха 48 loss_train:0.6298910356140137\n",
            " эпоха 49 loss_train:0.629844561252594\n",
            " эпоха 50 loss_train:0.6298052438735962\n"
          ]
        }
      ],
      "source": [
        "for epoch in range(num_epochs):\n",
        "    loss_epoch_train = []\n",
        "    for images, labels in train_load:\n",
        "        images = images.to(device)\n",
        "\n",
        "        # Forward pass\n",
        "        outputs = model(images)\n",
        "        loss = loss_fn(outputs, images)\n",
        "\n",
        "        # Backward and optimize\n",
        "        optimizer.zero_grad()\n",
        "        loss.backward()\n",
        "        optimizer.step()\n",
        "\n",
        "        loss_epoch_train.append(loss.item())\n",
        "\n",
        "    loss_train_list.append(sum(loss_epoch_train)/len(loss_epoch_train))\n",
        "\n",
        "\n",
        "\n",
        "    print(f\" эпоха {epoch+1} loss_train:{loss_train_list[epoch]}\")\n"
      ]
    },
    {
      "cell_type": "code",
      "execution_count": 29,
      "id": "cfa0bc72",
      "metadata": {
        "execution": {
          "iopub.execute_input": "2024-04-05T00:00:11.138177Z",
          "iopub.status.busy": "2024-04-05T00:00:11.137708Z",
          "iopub.status.idle": "2024-04-05T00:00:11.653863Z",
          "shell.execute_reply": "2024-04-05T00:00:11.652858Z"
        },
        "papermill": {
          "duration": 0.542094,
          "end_time": "2024-04-05T00:00:11.656291",
          "exception": false,
          "start_time": "2024-04-05T00:00:11.114197",
          "status": "completed"
        },
        "tags": [],
        "id": "cfa0bc72",
        "colab": {
          "base_uri": "https://localhost:8080/",
          "height": 389
        },
        "outputId": "843073bb-f29d-4e43-e03c-224ed03504e5"
      },
      "outputs": [
        {
          "output_type": "display_data",
          "data": {
            "text/plain": [
              "<Figure size 1000x500 with 2 Axes>"
            ],
            "image/png": "[encoded data removed]"
          },
          "metadata": {}
        }
      ],
      "source": [
        "id = np.random.randint(0,10000)\n",
        "\n",
        "with torch.no_grad():\n",
        "    model.to('cpu')\n",
        "\n",
        "    fig, axs = plt.subplots(1, 2, figsize=(10, 5))\n",
        "\n",
        "    # Отображение первого изображения\n",
        "    axs[0].imshow(test_data[id][0].permute(1,2,0))\n",
        "    axs[0].axis('off')\n",
        "\n",
        "    axs[1].imshow(model(test_data[id][0].unsqueeze(0)).squeeze(0).permute(1,2,0))\n",
        "    axs[1].axis('off')\n",
        "\n",
        "    # Показать изображения\n",
        "    plt.show()\n",
        "\n"
      ]
    }
  ],
  "metadata": {
    "kaggle": {
      "accelerator": "gpu",
      "dataSources": [],
      "dockerImageVersionId": 30673,
      "isGpuEnabled": true,
      "isInternetEnabled": true,
      "language": "python",
      "sourceType": "notebook"
    },
    "kernelspec": {
      "display_name": "Python 3",
      "name": "python3"
    },
    "language_info": {
      "codemirror_mode": {
        "name": "ipython",
        "version": 3
      },
      "file_extension": ".py",
      "mimetype": "text/x-python",
      "name": "python",
      "nbconvert_exporter": "python",
      "pygments_lexer": "ipython3",
      "version": "3.10.13"
    },
    "papermill": {
      "default_parameters": {},
      "duration": 3853.002779,
      "end_time": "2024-04-05T00:00:14.711622",
      "environment_variables": {},
      "exception": null,
      "input_path": "__notebook__.ipynb",
      "output_path": "__notebook__.ipynb",
      "parameters": {},
      "start_time": "2024-04-04T22:56:01.708843",
      "version": "2.5.0"
    },
    "colab": {
      "provenance": [],
      "gpuType": "T4",
      "include_colab_link": true
    },
    "accelerator": "GPU"
  },
  "nbformat": 4,
  "nbformat_minor": 5
}